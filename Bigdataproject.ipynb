{
 "cells": [
  {
   "cell_type": "code",
   "execution_count": 35,
   "metadata": {},
   "outputs": [
    {
     "name": "stdout",
     "output_type": "stream",
     "text": [
      "Requirement already satisfied: BeautifulSoup4 in c:\\users\\sigma\\anaconda3\\envs\\doudi\\lib\\site-packages (4.12.3)\n",
      "Requirement already satisfied: soupsieve>1.2 in c:\\users\\sigma\\anaconda3\\envs\\doudi\\lib\\site-packages (from BeautifulSoup4) (2.5)\n",
      "Requirement already satisfied: requests in c:\\users\\sigma\\anaconda3\\envs\\doudi\\lib\\site-packages (2.31.0)\n",
      "Requirement already satisfied: charset-normalizer<4,>=2 in c:\\users\\sigma\\anaconda3\\envs\\doudi\\lib\\site-packages (from requests) (3.3.2)\n",
      "Requirement already satisfied: idna<4,>=2.5 in c:\\users\\sigma\\anaconda3\\envs\\doudi\\lib\\site-packages (from requests) (3.6)\n",
      "Requirement already satisfied: urllib3<3,>=1.21.1 in c:\\users\\sigma\\anaconda3\\envs\\doudi\\lib\\site-packages (from requests) (2.2.1)\n",
      "Requirement already satisfied: certifi>=2017.4.17 in c:\\users\\sigma\\anaconda3\\envs\\doudi\\lib\\site-packages (from requests) (2024.2.2)\n",
      "Requirement already satisfied: pandas in c:\\users\\sigma\\anaconda3\\envs\\doudi\\lib\\site-packages (2.2.1)\n",
      "Requirement already satisfied: numpy<2,>=1.23.2 in c:\\users\\sigma\\anaconda3\\envs\\doudi\\lib\\site-packages (from pandas) (1.26.4)\n",
      "Requirement already satisfied: python-dateutil>=2.8.2 in c:\\users\\sigma\\anaconda3\\envs\\doudi\\lib\\site-packages (from pandas) (2.8.2)\n",
      "Requirement already satisfied: pytz>=2020.1 in c:\\users\\sigma\\anaconda3\\envs\\doudi\\lib\\site-packages (from pandas) (2024.1)\n",
      "Requirement already satisfied: tzdata>=2022.7 in c:\\users\\sigma\\anaconda3\\envs\\doudi\\lib\\site-packages (from pandas) (2024.1)\n",
      "Requirement already satisfied: six>=1.5 in c:\\users\\sigma\\anaconda3\\envs\\doudi\\lib\\site-packages (from python-dateutil>=2.8.2->pandas) (1.16.0)\n"
     ]
    }
   ],
   "source": [
    "!pip install BeautifulSoup4\n",
    "!pip install requests\n",
    "\n",
    "\n"
   ]
  },
  {
   "cell_type": "code",
   "execution_count": 53,
   "metadata": {},
   "outputs": [],
   "source": [
    "from bs4 import BeautifulSoup\n",
    "import requests"
   ]
  },
  {
   "cell_type": "code",
   "execution_count": 54,
   "metadata": {},
   "outputs": [],
   "source": [
    "import pandas as pd "
   ]
  },
  {
   "cell_type": "markdown",
   "metadata": {},
   "source": [
    "# Data Scraping"
   ]
  },
  {
   "cell_type": "code",
   "execution_count": 55,
   "metadata": {},
   "outputs": [],
   "source": [
    "url = 'https://worldpopulationreview.com/country-rankings/average-iq-by-country'\n",
    "\n",
    "response = requests.get(url)\n",
    "\n",
    "if response.status_code ==200 :\n",
    "    soup = BeautifulSoup(response.text, 'html.parser')"
   ]
  },
  {
   "cell_type": "code",
   "execution_count": 56,
   "metadata": {},
   "outputs": [],
   "source": [
    "table = soup.find('table')"
   ]
  },
  {
   "cell_type": "code",
   "execution_count": 57,
   "metadata": {},
   "outputs": [
    {
     "name": "stdout",
     "output_type": "stream",
     "text": [
      "Extracted Column Headers: ['Country', 'IQ (Lynn/Becker)']\n"
     ]
    }
   ],
   "source": [
    "headers = [th.text.strip() for th in table.find('tr').find_all('th')]\n",
    "print(\"Extracted Column Headers:\", headers)"
   ]
  },
  {
   "cell_type": "code",
   "execution_count": 58,
   "metadata": {},
   "outputs": [],
   "source": [
    "rows_data = []"
   ]
  },
  {
   "cell_type": "code",
   "execution_count": 59,
   "metadata": {},
   "outputs": [],
   "source": [
    "for row in table.find('tbody').find_all('tr')[1:]:       \n",
    "        row_data = [td.text.strip() for td in row.find_all('td')]\n",
    "        rows_data.append(row_data)"
   ]
  },
  {
   "cell_type": "code",
   "execution_count": 60,
   "metadata": {},
   "outputs": [
    {
     "name": "stdout",
     "output_type": "stream",
     "text": [
      "First few rows of data: [['Taiwan', '106.47'], ['Singapore', '105.89'], ['Hong Kong', '105.37'], ['China', '104.1'], ['South Korea', '102.35']]\n"
     ]
    }
   ],
   "source": [
    "print(\"First few rows of data:\", rows_data[:5])"
   ]
  },
  {
   "cell_type": "code",
   "execution_count": 61,
   "metadata": {},
   "outputs": [],
   "source": [
    "df = pd.DataFrame(rows_data, columns=headers)"
   ]
  },
  {
   "cell_type": "markdown",
   "metadata": {},
   "source": [
    "# Data Cleaning"
   ]
  },
  {
   "cell_type": "code",
   "execution_count": 70,
   "metadata": {},
   "outputs": [
    {
     "name": "stdout",
     "output_type": "stream",
     "text": [
      "missing numbers: \n",
      "Country             0\n",
      "IQ (Lynn/Becker)    0\n",
      "dtype: int64\n"
     ]
    }
   ],
   "source": [
    "df.fillna(df.median(), inplace=True)\n",
    "missing_numbers = df.isnull().sum()\n",
    "print(\"missing numbers: \")\n",
    "print(missing_numbers)"
   ]
  },
  {
   "cell_type": "code",
   "execution_count": 71,
   "metadata": {},
   "outputs": [
    {
     "name": "stdout",
     "output_type": "stream",
     "text": [
      "Empty DataFrame\n",
      "Columns: [Country, IQ (Lynn/Becker)]\n",
      "Index: []\n"
     ]
    }
   ],
   "source": [
    "duplicate_rows = df[df.duplicated()]\n",
    "print(\"Duplicate rows:\")\n",
    "print(duplicate_rows)"
   ]
  },
  {
   "cell_type": "code",
   "execution_count": 72,
   "metadata": {},
   "outputs": [],
   "source": [
    "df = df.drop_duplicates()\n"
   ]
  },
  {
   "cell_type": "markdown",
   "metadata": {},
   "source": [
    "# Feature Selection"
   ]
  },
  {
   "cell_type": "code",
   "execution_count": null,
   "metadata": {},
   "outputs": [],
   "source": [
    "# to select countries with iq scores above a certain threshold or in this case above 100\n",
    "\n",
    "threshold = 100\n",
    "selected_countries_above_threshold = df[df['Average IQ'] > threshold]"
   ]
  },
  {
   "cell_type": "code",
   "execution_count": null,
   "metadata": {},
   "outputs": [],
   "source": [
    "#Select countries with IQ scores below a 100\n",
    "selected_countries_below_threshold = df[df['Average IQ'] < threshold]"
   ]
  },
  {
   "cell_type": "code",
   "execution_count": null,
   "metadata": {},
   "outputs": [],
   "source": [
    "# Select top 5 countries with the highest IQ scores out of 10\n",
    "top_n = 5\n",
    "top_countries = df.nlargest(top_n, 'Average IQ')"
   ]
  },
  {
   "cell_type": "code",
   "execution_count": null,
   "metadata": {},
   "outputs": [],
   "source": [
    "# Select bottom 3 countries with the lowest IQ scores out of 10\n",
    "bottom_n = 3\n",
    "bottom_countries = df.nsmallest(bottom_n, 'Average IQ')"
   ]
  },
  {
   "cell_type": "code",
   "execution_count": null,
   "metadata": {},
   "outputs": [],
   "source": [
    "# saving new information based on criteria to new csv files\n",
    "selected_countries_above_threshold.to_csv(\"selected_countries_above_threshold.csv\", index=False)\n",
    "selected_countries_below_threshold.to_csv(\"selected_countries_below_threshold.csv\", index=False)\n",
    "top_countries.to_csv(\"top_countries.csv\", index=False)\n",
    "bottom_countries.to_csv(\"bottom_countries.csv\", index=False)"
   ]
  },
  {
   "cell_type": "code",
   "execution_count": 62,
   "metadata": {},
   "outputs": [
    {
     "name": "stdout",
     "output_type": "stream",
     "text": [
      "DataFrame:\n",
      "       Country IQ (Lynn/Becker)\n",
      "0       Taiwan           106.47\n",
      "1    Singapore           105.89\n",
      "2    Hong Kong           105.37\n",
      "3        China            104.1\n",
      "4  South Korea           102.35\n",
      "5      Finland            101.2\n",
      "6      Germany           100.74\n",
      "7  Netherlands           100.74\n",
      "8      Estonia           100.72\n"
     ]
    }
   ],
   "source": [
    "print(\"DataFrame:\")\n",
    "print(df)"
   ]
  },
  {
   "cell_type": "code",
   "execution_count": 69,
   "metadata": {},
   "outputs": [],
   "source": [
    "\n",
    "df.to_csv(\"C:\\\\Users\\\\Sigma\\\\Desktop\\\\Everything\\\\uni\\\\BigDataProject\\\\IQ.csv\", index=False)\n"
   ]
  }
 ],
 "metadata": {
  "kernelspec": {
   "display_name": "Python 3",
   "language": "python",
   "name": "python3"
  },
  "language_info": {
   "codemirror_mode": {
    "name": "ipython",
    "version": 3
   },
   "file_extension": ".py",
   "mimetype": "text/x-python",
   "name": "python",
   "nbconvert_exporter": "python",
   "pygments_lexer": "ipython3",
   "version": "3.11.0"
  }
 },
 "nbformat": 4,
 "nbformat_minor": 2
}
